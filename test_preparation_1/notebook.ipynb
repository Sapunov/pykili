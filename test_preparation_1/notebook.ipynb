{
 "cells": [
  {
   "cell_type": "markdown",
   "metadata": {},
   "source": [
    "<html>\n",
    "<body>\n",
    "<p>\n",
    "Для работы нужно использовать <a href=\"http://web-corpora.net/Test1_2016/quotes.txt\">этот файл</a>. В файле на каждой строчке записана цитата, затем тире \"—\", а затем источник цитаты.\n",
    "</p>\n",
    "</body>\n",
    "</html>"
   ]
  },
  {
   "cell_type": "markdown",
   "metadata": {},
   "source": [
    "### Общие функции"
   ]
  },
  {
   "cell_type": "code",
   "execution_count": 72,
   "metadata": {},
   "outputs": [],
   "source": [
    "def clear_text(text):\n",
    "    \n",
    "    trash_symbols = '!\"#$%&\\'-()*+,./:;<=>?@[\\\\]^_`{|}~«»—'\n",
    "    \n",
    "    while len(text) > 0 and text[0] in trash_symbols:\n",
    "        text = text[1:]\n",
    "\n",
    "    while len(text) > 0 and text[-1] in trash_symbols:\n",
    "        text = text[:-1]\n",
    "    \n",
    "    return text\n",
    "\n",
    "\n",
    "def get_words(string_of_text):\n",
    "    \n",
    "    good_words = []\n",
    "    \n",
    "    for word in string_of_text.split():\n",
    "        candidate = clear_text(word)\n",
    "        if candidate != '':\n",
    "            candidate = candidate.lower()\n",
    "            good_words.append(candidate)\n",
    "    \n",
    "    return good_words\n",
    "\n",
    "\n",
    "def split_quote(quote):\n",
    "    \n",
    "    DASH = '—'\n",
    "    dash_index = quote.rfind(DASH)\n",
    "    \n",
    "    left = quote[:dash_index].strip()\n",
    "    right = quote[dash_index + 1:].strip()\n",
    "    \n",
    "    return [left, right]"
   ]
  },
  {
   "cell_type": "code",
   "execution_count": 25,
   "metadata": {},
   "outputs": [],
   "source": [
    "FILENAME = 'quotes.txt'"
   ]
  },
  {
   "cell_type": "markdown",
   "metadata": {},
   "source": [
    "### Задание 1\n",
    "\n",
    "(5 баллов) Программа должна открыть файл с цитатами в кодировке UTF-8 и корректно вывести на экран цитаты, в которых менее 10 слов."
   ]
  },
  {
   "cell_type": "code",
   "execution_count": 73,
   "metadata": {},
   "outputs": [
    {
     "name": "stdout",
     "output_type": "stream",
     "text": [
      "Вера в чудеса примиряет с их отсутствием.\n",
      "Вера вопрошает, разум обнаруживает.\n",
      "Вера творит чудеса. По принципу взаимности.\n",
      "Воля судьбы такова, что присуща всем тварям разумность.\n",
      "Для вкуса, как и для ума, необходима культура.\n",
      "Каких только чудес не бывает на свете.\n",
      "Кто верит в чудеса! Но все их ждут.\n",
      "Лучше страдать ради Господа, чем творить чудеса.\n",
      "На земле чудес не бывает.\n",
      "Не всё то чудесное, что зовется небесное.\n",
      "О презрении Бога к людскому разуму свидетельствуют чудеса.\n",
      "Разум есть способность обобщать и обмениваться обобщением.\n",
      "Разум человека сильнее его кулаков.\n",
      "Разум - сложный инстинкт, не успевший ещё сформироваться.\n",
      "Разум - это зажигательное стекло, которое, воспламеняя, само остаётся холодным.\n",
      "С помощью искусства природа творит чудеса.\n",
      "Слабость всегда спасалась верой в чудеса…\n",
      "Слышал, лиса, про твои чудеса.\n",
      "Счастливый не верит в чудеса.\n",
      "Такие чудеса, что дыбом волоса.\n",
      "Человеческий разум, предоставленный самому себе, не заслуживает доверия.\n",
      "Чем выше культура, тем выше ценится труд.\n",
      "Чудеса нельзя приводить в доказательство.\n",
      "Чудеса случаются только в детстве.\n",
      "Чудеса - пелёнки новорожденной религии.\n"
     ]
    }
   ],
   "source": [
    "with open(FILENAME, encoding='utf-8') as fid:\n",
    "    for line in fid:\n",
    "        quote, author = split_quote(line)\n",
    "        quote_words = get_words(quote)\n",
    "        author_words = get_words(author)\n",
    "        \n",
    "        if len(quote_words) < 10:\n",
    "            print(quote)"
   ]
  },
  {
   "cell_type": "markdown",
   "metadata": {},
   "source": [
    "### Задание 2\n",
    "\n",
    "(8 баллов) Программа должна сказать, в скольких цитатах есть слово \"разум\", а затем распечатать источники этих цитат через запятую."
   ]
  },
  {
   "cell_type": "code",
   "execution_count": 74,
   "metadata": {},
   "outputs": [
    {
     "name": "stdout",
     "output_type": "stream",
     "text": [
      "Слово разум притствует в 14 цитате(ах)\n",
      "Николай Лобачевский, Джордж Галифакс, Карлос Кастанеда, «Огонь изнутри», Аврелий Августин, Франсуа де Ларошфуко, Юрий Лотман, Аврелий Августин, Александр Попов, Франсуа Рабле, Виктор Мари Гюго, Аркадий и Борис Стругацкие, Рене Декарт, Фрэнсис Бэкон, Вольтер\n"
     ]
    }
   ],
   "source": [
    "MIND_WORD = 'разум'\n",
    "mind_authors = []\n",
    "\n",
    "with open(FILENAME, encoding='utf-8') as fid:\n",
    "    for line in fid:\n",
    "        quote, author = split_quote(line)\n",
    "        quote_words = get_words(quote)\n",
    "        author_words = get_words(author)\n",
    "        \n",
    "        if MIND_WORD in quote_words:\n",
    "            mind_authors.append(author)\n",
    "\n",
    "print('Слово разум притствует в', len(mind_authors), 'цитате(ах)')\n",
    "print(', '.join(mind_authors))"
   ]
  },
  {
   "cell_type": "markdown",
   "metadata": {},
   "source": [
    "### Задание 3\n",
    "\n",
    "(10 баллов) Программа должна спрашивать у пользователя слова, пока тот не введёт пустое слово. После этого она должна для каждого слова распечатать а) само это слово и б) все цитаты, в которых оно встречается. Если слово ни разу не встретилось, то вместо цитат нужно вывести сообщение о том, что цитат не нашлось."
   ]
  },
  {
   "cell_type": "code",
   "execution_count": 80,
   "metadata": {
    "scrolled": false
   },
   "outputs": [
    {
     "name": "stdout",
     "output_type": "stream",
     "text": [
      "Введите слово: стекло\n",
      "Вы ввели: стекло\n",
      "Разум - это зажигательное стекло, которое, воспламеняя, само остаётся холодным. — Рене Декарт\n",
      "Введите слово: \n"
     ]
    }
   ],
   "source": [
    "def find_quotes(input_word, words, word_quote):\n",
    "    \n",
    "    results = []\n",
    "    \n",
    "    for i, word in enumerate(words):\n",
    "        if word == input_word:\n",
    "            results.append(word_quote[i])\n",
    "    \n",
    "    return results\n",
    "\n",
    "quotes = []\n",
    "words = []\n",
    "word_quote = []\n",
    "\n",
    "with open(FILENAME, encoding='utf-8') as fid:\n",
    "    for line in fid:\n",
    "        quote, author = split_quote(line)\n",
    "        quote_words = get_words(quote)\n",
    "        \n",
    "        quotes_pos = len(quotes)\n",
    "        quotes.append(line.strip())\n",
    "\n",
    "        for word in quote_words:\n",
    "            words.append(word)\n",
    "            word_quote.append(quotes_pos)\n",
    "\n",
    "\n",
    "while True:\n",
    "    word = input('Введите слово: ')\n",
    "    if word == '':\n",
    "        break\n",
    "\n",
    "    word = word.strip().lower()\n",
    "    quotes_ids = find_quotes(word, words, word_quote)\n",
    "    \n",
    "    if len(quotes_ids) == 0:\n",
    "        print('Цитат не нашлось')\n",
    "    else:\n",
    "        print('Вы ввели:', word)\n",
    "        for quote_id in quotes_ids:\n",
    "            print(quotes[quote_id])"
   ]
  }
 ],
 "metadata": {
  "kernelspec": {
   "display_name": "Python 3",
   "language": "python",
   "name": "python3"
  },
  "language_info": {
   "codemirror_mode": {
    "name": "ipython",
    "version": 3
   },
   "file_extension": ".py",
   "mimetype": "text/x-python",
   "name": "python",
   "nbconvert_exporter": "python",
   "pygments_lexer": "ipython3",
   "version": "3.7.0"
  }
 },
 "nbformat": 4,
 "nbformat_minor": 2
}
